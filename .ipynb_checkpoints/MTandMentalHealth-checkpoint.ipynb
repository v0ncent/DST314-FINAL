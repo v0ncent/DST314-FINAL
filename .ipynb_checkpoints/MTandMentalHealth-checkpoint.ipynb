{
 "cells": [
  {
   "cell_type": "markdown",
   "metadata": {},
   "source": [
    "# Music & Mental Health Survey Results\n",
    "In this project you will be seeing an analysis of Survey results on music taste and self-reported mental health.\n",
    "Data Set Used: https://www.kaggle.com/datasets/catherinerasgaitis/mxmh-survey-results \\\n",
    "**What is in our dataset**\n",
    "1. Timestamp: Date and time when form was submitted : Date\n",
    "2. Age: Respondent's age : Integer\n",
    "3. Primary Streaming Service: Respondent's primary streaming service : String\n",
    "4. Hours Per Day: Respondent's primary streaming service : Int\n",
    "5. While Working: Does the respondent listen to music while studying/working? : Boolean\n",
    "6. Instrumentalist: Does the respondent play an instrument regularly? : Boolean\n",
    "7. Composer: Does the respondent compose music? : Boolean\n",
    "8. Fav genre: Respondent's favorite or top genre: String\n",
    "9. Exploratory: Does the respondent actively explore new artists/genres? : Boolean\n",
    "10. Foreign languages: Does the respondent regularly listen to music with lyrics in a language they are not fluent in? : Boolean\n",
    "11. BPM: Beats per minute of favorite genre : Int\n",
    "12. Frequency[Classical]: How frequently the respondent listens to classical music : String\n",
    "13. Frequency[Country]: How frequently the respondent listens to country music : String\n",
    "14. Frequency[EDM]: How frequently the respondent listens to EDM music : String\n",
    "15. Frequency[Folk]: How frequently the respondent listens to folks music : String\n",
    "16. Frequency[Gospel]: How frequently the respondent listens to Gospel music : String\n",
    "17. Frequency[Hip Hop]: How frequently the respondent listens to hip hop music : String\n",
    "18. Frequency [Jazz]: How frequently the respondent listens to jazz music : String\n",
    "19. Frequency [K pop]: How frequently the respondent listens to K pop music : String\n",
    "20. Frequency [Latin]: How frequently the respondent listens to Latin music : String\n",
    "21. Frequency [Lofi]: How frequently the respondent listens to lofi music : String\n",
    "22. Frequency [Metal]: How frequently the respondent listens to metal music : String\n",
    "23. Frequency [Pop]: How frequently the respondent listens to pop music : String\n",
    "24. Frequency [R&B]: How frequently the respondent listens to R&B music : String\n",
    "25. Frequency [Rap]: How frequently the respondent listens to rap music : String\n",
    "26. Frequency [Rock]: How frequently the respondent listens to rock music: String\n",
    "27. Frequency [Video Game]: How frequently the respondent listens to video game music : String\n",
    "28. Anxiety: Self-reported anxiety, on a scale of 0-10 : Int\n",
    "29. Depression: Self-reported depression, on a scale of 0-10 : Int\n",
    "30. Insomnia: Self-reported insomnia, on a scale of 0-10 : Int\n",
    "31. OCD: Self-reported OCD, on a scale of 0-10 : Int\n",
    "32. Music effects: Does music improve/worsen respondent's mental health conditions? : String\n",
    "33. Permissions: Permissions to publicize data : String"
   ]
  },
  {
   "cell_type": "markdown",
   "metadata": {},
   "source": [
    "**Goals**\n",
    "1. Analyze data and create necessary visualizations to explore data\\\n",
    "    a. Create visuals of self reported mentel health symptoms on 1-10 scale to hours spent listening to music.\n",
    "2. Create prediction based upon likeleness to have improved mental health symptoms compared to number of hours spent listening to music per day utilizing Linear Regression.\n",
    "3. Predict the number of hours someone who scores low on the mental health scales listens to music.\n"
   ]
  },
  {
   "cell_type": "code",
   "execution_count": null,
   "metadata": {},
   "outputs": [],
   "source": []
  }
 ],
 "metadata": {
  "kernelspec": {
   "display_name": "Python 3 (ipykernel)",
   "language": "python",
   "name": "python3"
  },
  "language_info": {
   "codemirror_mode": {
    "name": "ipython",
    "version": 3
   },
   "file_extension": ".py",
   "mimetype": "text/x-python",
   "name": "python",
   "nbconvert_exporter": "python",
   "pygments_lexer": "ipython3",
   "version": "3.9.13"
  }
 },
 "nbformat": 4,
 "nbformat_minor": 2
}
