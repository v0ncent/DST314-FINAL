{
 "cells": [
  {
   "cell_type": "markdown",
   "metadata": {},
   "source": [
    "# Music & Mental Health Survey Results\n",
    "In this project you will be seeing an analysis of Survey results on music taste and self-reported mental health.\n",
    "Data Set Used: https://www.kaggle.com/datasets/catherinerasgaitis/mxmh-survey-results \\\n",
    "**What is in our dataset**"
   ]
  },
  {
   "cell_type": "markdown",
   "metadata": {},
   "source": [
    "**Goals**\n",
    "1. Analyze data and create necessary visualizations to explore data\n",
    "2. Create prediction based upon likeleness to have improved mental health symptoms compared to number of hours spent listening to music per day utilizing Linear Regression.\n"
   ]
  },
  {
   "cell_type": "code",
   "execution_count": null,
   "metadata": {},
   "outputs": [],
   "source": []
  }
 ],
 "metadata": {
  "kernelspec": {
   "display_name": "Python 3 (ipykernel)",
   "language": "python",
   "name": "python3"
  },
  "language_info": {
   "codemirror_mode": {
    "name": "ipython",
    "version": 3
   },
   "file_extension": ".py",
   "mimetype": "text/x-python",
   "name": "python",
   "nbconvert_exporter": "python",
   "pygments_lexer": "ipython3",
   "version": "3.9.13"
  }
 },
 "nbformat": 4,
 "nbformat_minor": 2
}
